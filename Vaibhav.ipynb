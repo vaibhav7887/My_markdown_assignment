{
 "cells": [
  {
   "cell_type": "markdown",
   "id": "e5231325-9fcd-4ab9-936e-3f1f494763da",
   "metadata": {},
   "source": [
    "# My Jupyter Notebook on IBM Watson Studio"
   ]
  },
  {
   "cell_type": "markdown",
   "id": "e0711f41-cb2f-421f-bea7-2c91066d0db7",
   "metadata": {},
   "source": [
    "**VAIBHAV SANJEEV PAWAR**\n",
    "I am currently a Fresher looking for opportunities to upskill myself in the corporate community to grow as a individual and a team."
   ]
  },
  {
   "cell_type": "markdown",
   "id": "f6ebe53b-5ced-4f69-b00d-ef3e6bf264f7",
   "metadata": {},
   "source": [
    "_I am interested in data science because, Data Science has taken this decade by storm. Almost every industry is impacted by data science because every business in today's era depends on data. Data science means using scientific methods, processes, algorithms, and systems to extract knowledge from data, and then leveraging that data to draw conclusions from decision making, risk calculation, targeting the audience to even finding market gaps and opportunities. Various techniques like time series analysis are also used to find market trends._"
   ]
  },
  {
   "cell_type": "markdown",
   "id": "ec077826-6c3a-4fcf-be89-efe34036aefa",
   "metadata": {},
   "source": [
    "### Now we will add two intergers"
   ]
  },
  {
   "cell_type": "code",
   "execution_count": 3,
   "id": "210e4682-c038-4249-bc25-fa6c4d49b6b6",
   "metadata": {},
   "outputs": [
    {
     "data": {
      "text/plain": [
       "2"
      ]
     },
     "execution_count": 3,
     "metadata": {},
     "output_type": "execute_result"
    }
   ],
   "source": [
    "1+1"
   ]
  },
  {
   "cell_type": "markdown",
   "id": "a2445d1d-a368-4f70-ba28-2802f962373a",
   "metadata": {},
   "source": [
    "---\n",
    "This is Horizontal Line\n",
    "\n",
    "This is Bulleted List\n",
    "\n",
    "\n",
    "*List 1\n",
    "*List 2\n",
    "*List 3\n",
    "\n",
    "This is Numbered List\n",
    "\n",
    "1. first point\n",
    "2. second point\n",
    "3. third point\n",
    "\n",
    "\n",
    "\n",
    "\n",
    "\n"
   ]
  },
  {
   "cell_type": "code",
   "execution_count": null,
   "id": "f631ca84-2ffe-40d5-86e9-5cc12b76114e",
   "metadata": {},
   "outputs": [],
   "source": []
  }
 ],
 "metadata": {
  "kernelspec": {
   "display_name": "Python",
   "language": "python",
   "name": "conda-env-python-py"
  },
  "language_info": {
   "codemirror_mode": {
    "name": "ipython",
    "version": 3
   },
   "file_extension": ".py",
   "mimetype": "text/x-python",
   "name": "python",
   "nbconvert_exporter": "python",
   "pygments_lexer": "ipython3",
   "version": "3.7.12"
  }
 },
 "nbformat": 4,
 "nbformat_minor": 5
}
